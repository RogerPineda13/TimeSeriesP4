{
 "cells": [
  {
   "cell_type": "code",
   "execution_count": 81,
   "metadata": {},
   "outputs": [],
   "source": [
    "## ALarsen working notebook"
   ]
  },
  {
   "cell_type": "code",
   "execution_count": 82,
   "metadata": {},
   "outputs": [],
   "source": [
    "import pandas as pd\n",
    "from statsmodels.tsa.stattools import adfuller\n",
    "import numpy as np"
   ]
  },
  {
   "cell_type": "code",
   "execution_count": 83,
   "metadata": {},
   "outputs": [
    {
     "name": "stdout",
     "output_type": "stream",
     "text": [
      "/Users/adamlarsen/Documents/Flatiron/phase-4/Project_4/TimeSeriesP4\r\n"
     ]
    }
   ],
   "source": [
    "!pwd"
   ]
  },
  {
   "cell_type": "code",
   "execution_count": 84,
   "metadata": {},
   "outputs": [],
   "source": [
    "df = pd.read_csv('DJIA_equities/CSCO_2006-01-01_to_2018-01-01.csv')"
   ]
  },
  {
   "cell_type": "code",
   "execution_count": 85,
   "metadata": {},
   "outputs": [
    {
     "data": {
      "text/html": [
       "<div>\n",
       "<style scoped>\n",
       "    .dataframe tbody tr th:only-of-type {\n",
       "        vertical-align: middle;\n",
       "    }\n",
       "\n",
       "    .dataframe tbody tr th {\n",
       "        vertical-align: top;\n",
       "    }\n",
       "\n",
       "    .dataframe thead th {\n",
       "        text-align: right;\n",
       "    }\n",
       "</style>\n",
       "<table border=\"1\" class=\"dataframe\">\n",
       "  <thead>\n",
       "    <tr style=\"text-align: right;\">\n",
       "      <th></th>\n",
       "      <th>Date</th>\n",
       "      <th>Open</th>\n",
       "      <th>High</th>\n",
       "      <th>Low</th>\n",
       "      <th>Close</th>\n",
       "      <th>Volume</th>\n",
       "      <th>Name</th>\n",
       "    </tr>\n",
       "  </thead>\n",
       "  <tbody>\n",
       "    <tr>\n",
       "      <th>0</th>\n",
       "      <td>2006-01-03</td>\n",
       "      <td>17.21</td>\n",
       "      <td>17.49</td>\n",
       "      <td>17.18</td>\n",
       "      <td>17.45</td>\n",
       "      <td>55432166</td>\n",
       "      <td>CSCO</td>\n",
       "    </tr>\n",
       "    <tr>\n",
       "      <th>1</th>\n",
       "      <td>2006-01-04</td>\n",
       "      <td>17.48</td>\n",
       "      <td>17.93</td>\n",
       "      <td>17.46</td>\n",
       "      <td>17.85</td>\n",
       "      <td>80409776</td>\n",
       "      <td>CSCO</td>\n",
       "    </tr>\n",
       "    <tr>\n",
       "      <th>2</th>\n",
       "      <td>2006-01-05</td>\n",
       "      <td>17.94</td>\n",
       "      <td>18.48</td>\n",
       "      <td>17.93</td>\n",
       "      <td>18.35</td>\n",
       "      <td>118588943</td>\n",
       "      <td>CSCO</td>\n",
       "    </tr>\n",
       "    <tr>\n",
       "      <th>3</th>\n",
       "      <td>2006-01-06</td>\n",
       "      <td>18.51</td>\n",
       "      <td>18.88</td>\n",
       "      <td>18.47</td>\n",
       "      <td>18.77</td>\n",
       "      <td>122450979</td>\n",
       "      <td>CSCO</td>\n",
       "    </tr>\n",
       "    <tr>\n",
       "      <th>4</th>\n",
       "      <td>2006-01-09</td>\n",
       "      <td>18.97</td>\n",
       "      <td>19.11</td>\n",
       "      <td>18.92</td>\n",
       "      <td>19.06</td>\n",
       "      <td>78604868</td>\n",
       "      <td>CSCO</td>\n",
       "    </tr>\n",
       "    <tr>\n",
       "      <th>5</th>\n",
       "      <td>2006-01-10</td>\n",
       "      <td>18.87</td>\n",
       "      <td>19.15</td>\n",
       "      <td>18.78</td>\n",
       "      <td>18.97</td>\n",
       "      <td>73839465</td>\n",
       "      <td>CSCO</td>\n",
       "    </tr>\n",
       "    <tr>\n",
       "      <th>6</th>\n",
       "      <td>2006-01-11</td>\n",
       "      <td>18.98</td>\n",
       "      <td>19.43</td>\n",
       "      <td>18.94</td>\n",
       "      <td>19.40</td>\n",
       "      <td>73964864</td>\n",
       "      <td>CSCO</td>\n",
       "    </tr>\n",
       "    <tr>\n",
       "      <th>7</th>\n",
       "      <td>2006-01-12</td>\n",
       "      <td>19.27</td>\n",
       "      <td>19.35</td>\n",
       "      <td>19.08</td>\n",
       "      <td>19.20</td>\n",
       "      <td>59581203</td>\n",
       "      <td>CSCO</td>\n",
       "    </tr>\n",
       "    <tr>\n",
       "      <th>8</th>\n",
       "      <td>2006-01-13</td>\n",
       "      <td>19.13</td>\n",
       "      <td>19.33</td>\n",
       "      <td>18.89</td>\n",
       "      <td>18.92</td>\n",
       "      <td>52389265</td>\n",
       "      <td>CSCO</td>\n",
       "    </tr>\n",
       "    <tr>\n",
       "      <th>9</th>\n",
       "      <td>2006-01-17</td>\n",
       "      <td>18.70</td>\n",
       "      <td>18.78</td>\n",
       "      <td>18.47</td>\n",
       "      <td>18.68</td>\n",
       "      <td>53133127</td>\n",
       "      <td>CSCO</td>\n",
       "    </tr>\n",
       "    <tr>\n",
       "      <th>10</th>\n",
       "      <td>2006-01-18</td>\n",
       "      <td>18.40</td>\n",
       "      <td>18.85</td>\n",
       "      <td>18.37</td>\n",
       "      <td>18.73</td>\n",
       "      <td>69496410</td>\n",
       "      <td>CSCO</td>\n",
       "    </tr>\n",
       "    <tr>\n",
       "      <th>11</th>\n",
       "      <td>2006-01-19</td>\n",
       "      <td>18.85</td>\n",
       "      <td>19.12</td>\n",
       "      <td>18.82</td>\n",
       "      <td>19.02</td>\n",
       "      <td>54525205</td>\n",
       "      <td>CSCO</td>\n",
       "    </tr>\n",
       "    <tr>\n",
       "      <th>12</th>\n",
       "      <td>2006-01-20</td>\n",
       "      <td>18.91</td>\n",
       "      <td>18.93</td>\n",
       "      <td>18.24</td>\n",
       "      <td>18.51</td>\n",
       "      <td>77920352</td>\n",
       "      <td>CSCO</td>\n",
       "    </tr>\n",
       "    <tr>\n",
       "      <th>13</th>\n",
       "      <td>2006-01-23</td>\n",
       "      <td>18.54</td>\n",
       "      <td>18.56</td>\n",
       "      <td>18.13</td>\n",
       "      <td>18.16</td>\n",
       "      <td>54554500</td>\n",
       "      <td>CSCO</td>\n",
       "    </tr>\n",
       "    <tr>\n",
       "      <th>14</th>\n",
       "      <td>2006-01-24</td>\n",
       "      <td>18.17</td>\n",
       "      <td>18.47</td>\n",
       "      <td>18.15</td>\n",
       "      <td>18.33</td>\n",
       "      <td>50575291</td>\n",
       "      <td>CSCO</td>\n",
       "    </tr>\n",
       "  </tbody>\n",
       "</table>\n",
       "</div>"
      ],
      "text/plain": [
       "          Date   Open   High    Low  Close     Volume  Name\n",
       "0   2006-01-03  17.21  17.49  17.18  17.45   55432166  CSCO\n",
       "1   2006-01-04  17.48  17.93  17.46  17.85   80409776  CSCO\n",
       "2   2006-01-05  17.94  18.48  17.93  18.35  118588943  CSCO\n",
       "3   2006-01-06  18.51  18.88  18.47  18.77  122450979  CSCO\n",
       "4   2006-01-09  18.97  19.11  18.92  19.06   78604868  CSCO\n",
       "5   2006-01-10  18.87  19.15  18.78  18.97   73839465  CSCO\n",
       "6   2006-01-11  18.98  19.43  18.94  19.40   73964864  CSCO\n",
       "7   2006-01-12  19.27  19.35  19.08  19.20   59581203  CSCO\n",
       "8   2006-01-13  19.13  19.33  18.89  18.92   52389265  CSCO\n",
       "9   2006-01-17  18.70  18.78  18.47  18.68   53133127  CSCO\n",
       "10  2006-01-18  18.40  18.85  18.37  18.73   69496410  CSCO\n",
       "11  2006-01-19  18.85  19.12  18.82  19.02   54525205  CSCO\n",
       "12  2006-01-20  18.91  18.93  18.24  18.51   77920352  CSCO\n",
       "13  2006-01-23  18.54  18.56  18.13  18.16   54554500  CSCO\n",
       "14  2006-01-24  18.17  18.47  18.15  18.33   50575291  CSCO"
      ]
     },
     "execution_count": 85,
     "metadata": {},
     "output_type": "execute_result"
    }
   ],
   "source": [
    "df.head(15)"
   ]
  },
  {
   "cell_type": "code",
   "execution_count": 86,
   "metadata": {},
   "outputs": [
    {
     "name": "stdout",
     "output_type": "stream",
     "text": [
      "<class 'pandas.core.frame.DataFrame'>\n",
      "RangeIndex: 3019 entries, 0 to 3018\n",
      "Data columns (total 7 columns):\n",
      " #   Column  Non-Null Count  Dtype  \n",
      "---  ------  --------------  -----  \n",
      " 0   Date    3019 non-null   object \n",
      " 1   Open    3019 non-null   float64\n",
      " 2   High    3019 non-null   float64\n",
      " 3   Low     3019 non-null   float64\n",
      " 4   Close   3019 non-null   float64\n",
      " 5   Volume  3019 non-null   int64  \n",
      " 6   Name    3019 non-null   object \n",
      "dtypes: float64(4), int64(1), object(2)\n",
      "memory usage: 165.2+ KB\n"
     ]
    }
   ],
   "source": [
    "df.info()\n",
    "\n",
    "# Looks like we need to convert the date column which is currently an object\n",
    "# into a datetime object and then make that our index"
   ]
  },
  {
   "cell_type": "code",
   "execution_count": 87,
   "metadata": {},
   "outputs": [
    {
     "name": "stdout",
     "output_type": "stream",
     "text": [
      "<class 'pandas.core.frame.DataFrame'>\n",
      "RangeIndex: 3019 entries, 0 to 3018\n",
      "Data columns (total 7 columns):\n",
      " #   Column  Non-Null Count  Dtype         \n",
      "---  ------  --------------  -----         \n",
      " 0   Date    3019 non-null   datetime64[ns]\n",
      " 1   Open    3019 non-null   float64       \n",
      " 2   High    3019 non-null   float64       \n",
      " 3   Low     3019 non-null   float64       \n",
      " 4   Close   3019 non-null   float64       \n",
      " 5   Volume  3019 non-null   int64         \n",
      " 6   Name    3019 non-null   object        \n",
      "dtypes: datetime64[ns](1), float64(4), int64(1), object(1)\n",
      "memory usage: 165.2+ KB\n"
     ]
    }
   ],
   "source": [
    "df['Date'] = pd.to_datetime(df['Date'], format='%Y/%m/%d')\n",
    "df.info()\n",
    "\n",
    "# Now lets try and make this our index before looking at our columns and what we should drop"
   ]
  },
  {
   "cell_type": "code",
   "execution_count": 88,
   "metadata": {},
   "outputs": [
    {
     "data": {
      "text/html": [
       "<div>\n",
       "<style scoped>\n",
       "    .dataframe tbody tr th:only-of-type {\n",
       "        vertical-align: middle;\n",
       "    }\n",
       "\n",
       "    .dataframe tbody tr th {\n",
       "        vertical-align: top;\n",
       "    }\n",
       "\n",
       "    .dataframe thead th {\n",
       "        text-align: right;\n",
       "    }\n",
       "</style>\n",
       "<table border=\"1\" class=\"dataframe\">\n",
       "  <thead>\n",
       "    <tr style=\"text-align: right;\">\n",
       "      <th></th>\n",
       "      <th>Open</th>\n",
       "      <th>High</th>\n",
       "      <th>Low</th>\n",
       "      <th>Close</th>\n",
       "      <th>Volume</th>\n",
       "      <th>Name</th>\n",
       "    </tr>\n",
       "    <tr>\n",
       "      <th>Date</th>\n",
       "      <th></th>\n",
       "      <th></th>\n",
       "      <th></th>\n",
       "      <th></th>\n",
       "      <th></th>\n",
       "      <th></th>\n",
       "    </tr>\n",
       "  </thead>\n",
       "  <tbody>\n",
       "    <tr>\n",
       "      <th>2006-01-03</th>\n",
       "      <td>17.21</td>\n",
       "      <td>17.49</td>\n",
       "      <td>17.18</td>\n",
       "      <td>17.45</td>\n",
       "      <td>55432166</td>\n",
       "      <td>CSCO</td>\n",
       "    </tr>\n",
       "    <tr>\n",
       "      <th>2006-01-04</th>\n",
       "      <td>17.48</td>\n",
       "      <td>17.93</td>\n",
       "      <td>17.46</td>\n",
       "      <td>17.85</td>\n",
       "      <td>80409776</td>\n",
       "      <td>CSCO</td>\n",
       "    </tr>\n",
       "    <tr>\n",
       "      <th>2006-01-05</th>\n",
       "      <td>17.94</td>\n",
       "      <td>18.48</td>\n",
       "      <td>17.93</td>\n",
       "      <td>18.35</td>\n",
       "      <td>118588943</td>\n",
       "      <td>CSCO</td>\n",
       "    </tr>\n",
       "    <tr>\n",
       "      <th>2006-01-06</th>\n",
       "      <td>18.51</td>\n",
       "      <td>18.88</td>\n",
       "      <td>18.47</td>\n",
       "      <td>18.77</td>\n",
       "      <td>122450979</td>\n",
       "      <td>CSCO</td>\n",
       "    </tr>\n",
       "    <tr>\n",
       "      <th>2006-01-09</th>\n",
       "      <td>18.97</td>\n",
       "      <td>19.11</td>\n",
       "      <td>18.92</td>\n",
       "      <td>19.06</td>\n",
       "      <td>78604868</td>\n",
       "      <td>CSCO</td>\n",
       "    </tr>\n",
       "    <tr>\n",
       "      <th>...</th>\n",
       "      <td>...</td>\n",
       "      <td>...</td>\n",
       "      <td>...</td>\n",
       "      <td>...</td>\n",
       "      <td>...</td>\n",
       "      <td>...</td>\n",
       "    </tr>\n",
       "    <tr>\n",
       "      <th>2017-12-22</th>\n",
       "      <td>38.52</td>\n",
       "      <td>38.74</td>\n",
       "      <td>38.47</td>\n",
       "      <td>38.55</td>\n",
       "      <td>11441622</td>\n",
       "      <td>CSCO</td>\n",
       "    </tr>\n",
       "    <tr>\n",
       "      <th>2017-12-26</th>\n",
       "      <td>38.55</td>\n",
       "      <td>38.68</td>\n",
       "      <td>38.36</td>\n",
       "      <td>38.48</td>\n",
       "      <td>8186082</td>\n",
       "      <td>CSCO</td>\n",
       "    </tr>\n",
       "    <tr>\n",
       "      <th>2017-12-27</th>\n",
       "      <td>38.54</td>\n",
       "      <td>38.65</td>\n",
       "      <td>38.45</td>\n",
       "      <td>38.56</td>\n",
       "      <td>10543034</td>\n",
       "      <td>CSCO</td>\n",
       "    </tr>\n",
       "    <tr>\n",
       "      <th>2017-12-28</th>\n",
       "      <td>38.73</td>\n",
       "      <td>38.73</td>\n",
       "      <td>38.45</td>\n",
       "      <td>38.59</td>\n",
       "      <td>8807745</td>\n",
       "      <td>CSCO</td>\n",
       "    </tr>\n",
       "    <tr>\n",
       "      <th>2017-12-29</th>\n",
       "      <td>38.41</td>\n",
       "      <td>38.62</td>\n",
       "      <td>38.30</td>\n",
       "      <td>38.30</td>\n",
       "      <td>12583621</td>\n",
       "      <td>CSCO</td>\n",
       "    </tr>\n",
       "  </tbody>\n",
       "</table>\n",
       "<p>3019 rows × 6 columns</p>\n",
       "</div>"
      ],
      "text/plain": [
       "             Open   High    Low  Close     Volume  Name\n",
       "Date                                                   \n",
       "2006-01-03  17.21  17.49  17.18  17.45   55432166  CSCO\n",
       "2006-01-04  17.48  17.93  17.46  17.85   80409776  CSCO\n",
       "2006-01-05  17.94  18.48  17.93  18.35  118588943  CSCO\n",
       "2006-01-06  18.51  18.88  18.47  18.77  122450979  CSCO\n",
       "2006-01-09  18.97  19.11  18.92  19.06   78604868  CSCO\n",
       "...           ...    ...    ...    ...        ...   ...\n",
       "2017-12-22  38.52  38.74  38.47  38.55   11441622  CSCO\n",
       "2017-12-26  38.55  38.68  38.36  38.48    8186082  CSCO\n",
       "2017-12-27  38.54  38.65  38.45  38.56   10543034  CSCO\n",
       "2017-12-28  38.73  38.73  38.45  38.59    8807745  CSCO\n",
       "2017-12-29  38.41  38.62  38.30  38.30   12583621  CSCO\n",
       "\n",
       "[3019 rows x 6 columns]"
      ]
     },
     "execution_count": 88,
     "metadata": {},
     "output_type": "execute_result"
    }
   ],
   "source": [
    "df.set_index('Date', inplace=True)\n",
    "df\n",
    "\n",
    "# Looks like index is now set to a date time object, lets drop open, high, low, volume and name\n",
    "# so that we're only left with close and the day. \n",
    "\n",
    "# I think we'll want to resample this data later adding open to the morning price however we'll begin\n",
    "# modeling now and revisit after results."
   ]
  },
  {
   "cell_type": "code",
   "execution_count": 96,
   "metadata": {},
   "outputs": [
    {
     "ename": "AttributeError",
     "evalue": "'Series' object has no attribute 'info'",
     "output_type": "error",
     "traceback": [
      "\u001b[0;31m---------------------------------------------------------------------------\u001b[0m",
      "\u001b[0;31mAttributeError\u001b[0m                            Traceback (most recent call last)",
      "\u001b[0;32m<ipython-input-96-cdd174486e4a>\u001b[0m in \u001b[0;36m<module>\u001b[0;34m\u001b[0m\n\u001b[1;32m      1\u001b[0m \u001b[0;31m# df = pd.Series(df['Close'], index=df.index)\u001b[0m\u001b[0;34m\u001b[0m\u001b[0;34m\u001b[0m\u001b[0;34m\u001b[0m\u001b[0m\n\u001b[0;32m----> 2\u001b[0;31m \u001b[0mdf\u001b[0m\u001b[0;34m.\u001b[0m\u001b[0minfo\u001b[0m\u001b[0;34m\u001b[0m\u001b[0;34m\u001b[0m\u001b[0m\n\u001b[0m",
      "\u001b[0;32m~/opt/anaconda3/envs/learn-env/lib/python3.8/site-packages/pandas/core/generic.py\u001b[0m in \u001b[0;36m__getattr__\u001b[0;34m(self, name)\u001b[0m\n\u001b[1;32m   5137\u001b[0m             \u001b[0;32mif\u001b[0m \u001b[0mself\u001b[0m\u001b[0;34m.\u001b[0m\u001b[0m_info_axis\u001b[0m\u001b[0;34m.\u001b[0m\u001b[0m_can_hold_identifiers_and_holds_name\u001b[0m\u001b[0;34m(\u001b[0m\u001b[0mname\u001b[0m\u001b[0;34m)\u001b[0m\u001b[0;34m:\u001b[0m\u001b[0;34m\u001b[0m\u001b[0;34m\u001b[0m\u001b[0m\n\u001b[1;32m   5138\u001b[0m                 \u001b[0;32mreturn\u001b[0m \u001b[0mself\u001b[0m\u001b[0;34m[\u001b[0m\u001b[0mname\u001b[0m\u001b[0;34m]\u001b[0m\u001b[0;34m\u001b[0m\u001b[0;34m\u001b[0m\u001b[0m\n\u001b[0;32m-> 5139\u001b[0;31m             \u001b[0;32mreturn\u001b[0m \u001b[0mobject\u001b[0m\u001b[0;34m.\u001b[0m\u001b[0m__getattribute__\u001b[0m\u001b[0;34m(\u001b[0m\u001b[0mself\u001b[0m\u001b[0;34m,\u001b[0m \u001b[0mname\u001b[0m\u001b[0;34m)\u001b[0m\u001b[0;34m\u001b[0m\u001b[0;34m\u001b[0m\u001b[0m\n\u001b[0m\u001b[1;32m   5140\u001b[0m \u001b[0;34m\u001b[0m\u001b[0m\n\u001b[1;32m   5141\u001b[0m     \u001b[0;32mdef\u001b[0m \u001b[0m__setattr__\u001b[0m\u001b[0;34m(\u001b[0m\u001b[0mself\u001b[0m\u001b[0;34m,\u001b[0m \u001b[0mname\u001b[0m\u001b[0;34m:\u001b[0m \u001b[0mstr\u001b[0m\u001b[0;34m,\u001b[0m \u001b[0mvalue\u001b[0m\u001b[0;34m)\u001b[0m \u001b[0;34m->\u001b[0m \u001b[0;32mNone\u001b[0m\u001b[0;34m:\u001b[0m\u001b[0;34m\u001b[0m\u001b[0;34m\u001b[0m\u001b[0m\n",
      "\u001b[0;31mAttributeError\u001b[0m: 'Series' object has no attribute 'info'"
     ]
    }
   ],
   "source": [
    "df = pd.Series(df['Close'], index=df.index)"
   ]
  },
  {
   "cell_type": "code",
   "execution_count": 97,
   "metadata": {},
   "outputs": [
    {
     "name": "stdout",
     "output_type": "stream",
     "text": [
      "Date\n",
      "2006-01-03    17.45\n",
      "2006-01-04    17.85\n",
      "2006-01-05    18.35\n",
      "2006-01-06    18.77\n",
      "2006-01-09    19.06\n",
      "Name: Close, dtype: float64\n"
     ]
    },
    {
     "data": {
      "text/plain": [
       "<AxesSubplot:xlabel='Date'>"
      ]
     },
     "execution_count": 97,
     "metadata": {},
     "output_type": "execute_result"
    },
    {
     "data": {
      "image/png": "[encoded data removed]",
      "text/plain": [
       "<Figure size 432x288 with 1 Axes>"
      ]
     },
     "metadata": {
      "needs_background": "light"
     },
     "output_type": "display_data"
    }
   ],
   "source": [
    "print(df.head())\n",
    "\n",
    "df.plot()\n",
    "\n",
    "# This should look like a pandas series, which it does. Let's check how this looks on a graph."
   ]
  },
  {
   "cell_type": "code",
   "execution_count": 115,
   "metadata": {},
   "outputs": [],
   "source": [
    "## Let's look at the Dickey-Fuller results to see how stationary it is. This doesn't\n",
    "## look stationary at all however let's see how this looks.\n",
    "\n",
    "def dickey(df_df):\n",
    "    results = adfuller(df_df)\n",
    "\n",
    "    p_value = results[4]['5%']\n",
    "\n",
    "    print(f' The test statistic is: {results[0]}')\n",
    "    print(f' The p-value of 5% is: {p_value}')\n",
    "    return\n"
   ]
  },
  {
   "cell_type": "code",
   "execution_count": 116,
   "metadata": {},
   "outputs": [
    {
     "data": {
      "text/plain": [
       "Date\n",
       "2006-01-03    2.859340\n",
       "2006-01-04    2.882004\n",
       "2006-01-05    2.909630\n",
       "2006-01-06    2.932260\n",
       "2006-01-09    2.947592\n",
       "                ...   \n",
       "2017-12-22    3.651956\n",
       "2017-12-26    3.650139\n",
       "2017-12-27    3.652215\n",
       "2017-12-28    3.652993\n",
       "2017-12-29    3.645450\n",
       "Name: Close, Length: 3019, dtype: float64"
      ]
     },
     "execution_count": 116,
     "metadata": {},
     "output_type": "execute_result"
    }
   ],
   "source": [
    "log_price = np.log(df)\n",
    "log_price\n",
    "\n",
    "df_log = pd.Series(log_price, index=df.index)\n",
    "df_log"
   ]
  },
  {
   "cell_type": "code",
   "execution_count": 122,
   "metadata": {},
   "outputs": [
    {
     "name": "stdout",
     "output_type": "stream",
     "text": [
      " The test statistic is: -1.272011480362929\n",
      " The p-value of 5% is: -2.862498789206885\n"
     ]
    },
    {
     "data": {
      "image/png": "[encoded data removed]",
      "text/plain": [
       "<Figure size 432x288 with 1 Axes>"
      ]
     },
     "metadata": {
      "needs_background": "light"
     },
     "output_type": "display_data"
    }
   ],
   "source": [
    "dickey(df)\n",
    "df.plot();"
   ]
  },
  {
   "cell_type": "code",
   "execution_count": 121,
   "metadata": {},
   "outputs": [
    {
     "name": "stdout",
     "output_type": "stream",
     "text": [
      " The test statistic is: -1.7414771768740476\n",
      " The p-value of 5% is: -2.862498789206885\n"
     ]
    },
    {
     "data": {
      "image/png": "[encoded data removed]",
      "text/plain": [
       "<Figure size 432x288 with 1 Axes>"
      ]
     },
     "metadata": {
      "needs_background": "light"
     },
     "output_type": "display_data"
    }
   ],
   "source": [
    "dickey(df_log)\n",
    "df_log.plot();"
   ]
  },
  {
   "cell_type": "markdown",
   "metadata": {},
   "source": [
    "Certainly getting closer however still not happy with the results given that it is not considered stationary. Let's try taking the square root of the price and see if that helps in any way shape or form."
   ]
  },
  {
   "cell_type": "code",
   "execution_count": 124,
   "metadata": {},
   "outputs": [
    {
     "name": "stdout",
     "output_type": "stream",
     "text": [
      " The test statistic is: -1.5121845155059073\n",
      " The p-value of 5% is: -2.862498789206885\n"
     ]
    },
    {
     "data": {
      "image/png": "[encoded data removed]",
      "text/plain": [
       "<Figure size 432x288 with 1 Axes>"
      ]
     },
     "metadata": {
      "needs_background": "light"
     },
     "output_type": "display_data"
    }
   ],
   "source": [
    "sqrt_price = np.sqrt(df)\n",
    "df_sqrt = pd.Series(sqrt_price, index=df.index)\n",
    "dickey(df_sqrt)\n",
    "df_sqrt.plot();\n"
   ]
  },
  {
   "cell_type": "markdown",
   "metadata": {},
   "source": [
    "The square root didn't seem to help all given that the test statistic came back lower than the log transformation. I also think it's important to note here that it doesn't seem like any exponential growth so as expected, these functions shouldn't have improved it much.\n",
    "\n",
    "Let's try looking at the rolling mean and then seeing how much that helps our model."
   ]
  },
  {
   "cell_type": "code",
   "execution_count": 152,
   "metadata": {},
   "outputs": [
    {
     "name": "stdout",
     "output_type": "stream",
     "text": [
      " The test statistic is: -40.88276561608769\n",
      " The p-value of 5% is: -2.862498789206885\n",
      " The test statistic is: -23.903455783189777\n",
      " The p-value of 5% is: -2.862500063122179\n",
      " The test statistic is: -5.513325531473438\n",
      " The p-value of 5% is: -2.8625272824212167\n",
      " The test statistic is: -9.63300789240544\n",
      " The p-value of 5% is: -2.862507454335551\n",
      " The test statistic is: -6.874221207611005\n",
      " The p-value of 5% is: -2.862517267814074\n"
     ]
    },
    {
     "data": {
      "image/png": "[encoded data removed]",
      "text/plain": [
       "<Figure size 432x288 with 1 Axes>"
      ]
     },
     "metadata": {
      "needs_background": "light"
     },
     "output_type": "display_data"
    }
   ],
   "source": [
    "df_rolling = df.rolling(window=2).mean()\n",
    "df_rolling_1 = df.rolling(window=4).mean()\n",
    "df_rolling_2 = df.rolling(window=90).mean()\n",
    "df_rolling_3 = df.rolling(window=30).mean()\n",
    "df_rolling_4 = df.rolling(window=60).mean()\n",
    "\n",
    "list_of_df = [df_rolling, df_rolling_1, df_rolling_2, df_rolling_3, df_rolling_4]\n",
    "\n",
    "for i in list_of_df:\n",
    "    if_df = (df - i).dropna()\n",
    "    dickey(if_df)\n",
    "    if_df.plot();\n",
    "\n"
   ]
  },
  {
   "cell_type": "markdown",
   "metadata": {},
   "source": [
    "Looks like when we use a rolling mean of 2, our test statistic is very small (and is the smallest) which means we can reject the null and now assume our dataset is now stationary. "
   ]
  },
  {
   "cell_type": "code",
   "execution_count": null,
   "metadata": {},
   "outputs": [],
   "source": []
  }
 ],
 "metadata": {
  "kernelspec": {
   "display_name": "Python 3",
   "language": "python",
   "name": "python3"
  },
  "language_info": {
   "codemirror_mode": {
    "name": "ipython",
    "version": 3
   },
   "file_extension": ".py",
   "mimetype": "text/x-python",
   "name": "python",
   "nbconvert_exporter": "python",
   "pygments_lexer": "ipython3",
   "version": "3.8.5"
  }
 },
 "nbformat": 4,
 "nbformat_minor": 4
}
